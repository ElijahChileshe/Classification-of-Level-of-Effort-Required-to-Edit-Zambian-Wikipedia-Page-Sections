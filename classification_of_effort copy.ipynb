{
 "cells": [
  {
   "cell_type": "code",
   "execution_count": 1,
   "metadata": {},
   "outputs": [],
   "source": [
    "# Import libraries\n",
    "\n",
    "import requests\n",
    "from bs4 import BeautifulSoup\n",
    "import re"
   ]
  },
  {
   "cell_type": "code",
   "execution_count": 30,
   "metadata": {},
   "outputs": [
    {
     "name": "stdout",
     "output_type": "stream",
     "text": [
      "Search API URL: https://en.wikipedia.org/w/api.php?action=query&list=search&srsearch=intitle%3AZambia&format=json&srlimit=10\n",
      "Found titles: ['Zambia', 'Outline of Zambia', 'Economy of Zambia', 'President of Zambia', 'China–Zambia relations', 'Languages of Zambia', 'Foreign relations of Zambia', 'India–Zambia relations', 'Geography of Zambia', 'Zambia Railways']\n"
     ]
    }
   ],
   "source": [
    "import requests\n",
    "\n",
    "def search_zambian_pages(limit=10):\n",
    "    url = \"https://en.wikipedia.org/w/api.php\"\n",
    "    params = {\n",
    "        \"action\": \"query\",\n",
    "        \"list\": \"search\",\n",
    "        \"srsearch\": \"intitle:Zambia\",\n",
    "        \"format\": \"json\",\n",
    "        \"srlimit\": limit\n",
    "    }\n",
    "    response = requests.get(url, params=params)\n",
    "    print(\"Search API URL:\", response.url)\n",
    "    data = response.json()\n",
    "    titles = [result[\"title\"] for result in data[\"query\"][\"search\"]]\n",
    "    print(\"Found titles:\", titles)\n",
    "    return titles\n",
    "\n",
    "titles = search_zambian_pages(limit=10)\n"
   ]
  },
  {
   "cell_type": "code",
   "execution_count": 31,
   "metadata": {},
   "outputs": [
    {
     "name": "stdout",
     "output_type": "stream",
     "text": [
      "Parse API URL for 'Zambia': https://en.wikipedia.org/w/api.php?action=parse&page=Zambia&format=json&prop=text\n",
      "Length of HTML content for 'Zambia': 533384\n"
     ]
    }
   ],
   "source": [
    "def get_page_html(title):\n",
    "    url = \"https://en.wikipedia.org/w/api.php\"\n",
    "    params = {\n",
    "        \"action\": \"parse\",\n",
    "        \"page\": title,\n",
    "        \"format\": \"json\",\n",
    "        \"prop\": \"text\"\n",
    "    }\n",
    "    response = requests.get(url, params=params)\n",
    "    print(f\"Parse API URL for '{title}':\", response.url)\n",
    "    data = response.json()\n",
    "    html = data[\"parse\"][\"text\"][\"*\"]\n",
    "    print(f\"Length of HTML content for '{title}':\", len(html))\n",
    "    return html\n",
    "\n",
    "page_title = titles[0]  # take first title from previous cell\n",
    "html = get_page_html(page_title)\n"
   ]
  },
  {
   "cell_type": "code",
   "execution_count": 57,
   "metadata": {},
   "outputs": [
    {
     "name": "stdout",
     "output_type": "stream",
     "text": [
      "\n",
      "Sections in 'Zambia':\n",
      "- Etymology (first 100 chars): Further information: Rhodesia (name) The territory of Zambia was known as Northern Rhodesia from 191\n",
      "- History (first 100 chars): Main article: History of Zambia\n",
      "- Prehistoric era (first 100 chars): Archaeological excavation work on the Zambezi Valley and Kalambo Falls shows a succession of human c\n",
      "- Khoisan and Batwa (first 100 chars): Ancient (but graffitied) Rock Art in Nsalu Cave, Kasanka National Park in North-Central Zambia Moder\n",
      "- The Bantu (Abantu) (first 100 chars): The Bantu people or Abantu (meaning people) are an enormous and diverse ethnolinguistic group that c\n",
      "- Bantu origins (first 100 chars): Batonga fisherwomen in Southern Zambia. Women have played and continue to play pivotal roles in many\n",
      "- First Bantu settlement (first 100 chars): The first Bantu people to arrive in Zambia came through the eastern route via the African Great Lake\n",
      "- Second Bantu settlement (first 100 chars): The second mass settlement of Bantu people into Zambia was of people groups that are believed to hav\n",
      "- Europeans (first 100 chars): An 1864 photograph of the Scottish explorer and missionary David Livingstone One of the earliest rec\n",
      "- British colonisation (first 100 chars): In 1923, Southern Rhodesia (now Zimbabwe), a conquered territory which was also administered by the \n",
      "- Independence (first 100 chars): Kenneth Kaunda , first Republican president, on a state visit to Romania in 1970 A two-stage electio\n",
      "- Post Independence (first 100 chars): Kaunda's endorsement of Patriotic Front guerrillas conducting raids into neighbouring (Southern) Rho\n",
      "- Economic troubles (first 100 chars): In the mid-1970s, the price of copper, Zambia's principal export, suffered a severe decline worldwid\n",
      "- Democratisation (first 100 chars): In June 1990 riots against Kaunda accelerated. Many protesters were killed by the regime in breakthr\n",
      "- Politics (first 100 chars): Main article: Politics of Zambia Zambia National Assembly building in Lusaka Politics in Zambia take\n",
      "- Foreign relations (first 100 chars): Further information: Foreign relations of Zambia President Edgar Lungu with Russian President Vladim\n",
      "- Military (first 100 chars): Main article: Zambian Defence Force The Zambian Defence Force (ZDF) consists of the Zambia Army (ZA)\n",
      "- Administrative divisions (first 100 chars): Further information: Provinces of Zambia Zambia is administratively divided into ten provinces subdi\n",
      "- Human rights (first 100 chars): See also: Human rights in Zambia and LGBT rights in Zambia The government is sensitive to any opposi\n",
      "- Geography (first 100 chars): Main articles: Geography of Zambia and Geology of Zambia Zambia map of Köppen climate classification\n",
      "- Climate (first 100 chars): Main article: Climate of Zambia Zambia is located on the plateau of Central Africa, between 1,000 an\n",
      "- Biodiversity (first 100 chars): Main article: Wildlife of Zambia The official national animal of Zambia is the African fish eagle Th\n",
      "- Demographics (first 100 chars): .mw-parser-output .abbr-header{white-space:nowrap}.mw-parser-output .caption-purple{border:1px #a2a9\n",
      "- Largest towns (first 100 chars): Further information: List of cities and towns in Zambia The onset of industrial copper mining on the\n",
      "- Ethnic groups (first 100 chars): Tribal and linguistic map of Zambia Zambia nominally includes approximately 73 ethnic groups, [ 89 ]\n",
      "- Religion (first 100 chars): Further information: Religion in Zambia Zambia is officially a \"Christian nation\" under the 1996 con\n",
      "- Languages (first 100 chars): Main article: Languages of Zambia Density map of dominant regional languages [ 111 ] Bemba Chewa Loz\n",
      "- Education (first 100 chars): Main article: Education in Zambia Pupils at the St Monica's Girls Secondary School in Chipata , East\n",
      "- Health (first 100 chars): Main articles: Health in Zambia and Healthcare in Zambia Zambia is experiencing a generalised HIV/AI\n",
      "- Economy (first 100 chars): Further information: Economy of Zambia In 2022, Zambia averages between $7.5 billion and $8 billion \n",
      "- Mining (first 100 chars): The major Nkana open copper mine, Kitwe . Main articles: Mining in Zambia and List of mines in Zambi\n",
      "- Agriculture (first 100 chars): Agriculture plays a very important part in Zambia's economy providing many more jobs than the mining\n",
      "- Tourism (first 100 chars): Further information: Tourism in Zambia and Monuments and Historic Sites of Zambia Victoria Falls (Mo\n",
      "- Energy (first 100 chars): See also: List of power stations in Zambia In 2009, Zambia generated 10.3 TWh of electricity and has\n",
      "- Culture (first 100 chars): Nsima (top right corner) with three types of relish . Prior to the establishment of modern Zambia, t\n",
      "- Media (first 100 chars): Main articles: Media in Zambia and Telecommunications in Zambia Freedoms of expression and of the pr\n",
      "- Sports and games (first 100 chars): Sports and games are common social aspects of Zambian culture(s) that bring people together for lear\n",
      "- Music and dance (first 100 chars): Zambia's culture has been an integral part of their development post-independence such as the uprisi\n",
      "- Zamrock (first 100 chars): Zamrock is a musical genre that emerged in the 1970s, and has developed a cult following in the West\n",
      "- Notable people (first 100 chars): Main articles: List of Zambians and List of Zambian artists\n",
      "- See also (first 100 chars): .mw-parser-output .portalbox{padding:0;margin:0.5em 0;display:table;box-sizing:border-box;max-width:\n",
      "- Notes (first 100 chars): .mw-parser-output .reflist{margin-bottom:0.5em;list-style-type:decimal}@media screen{.mw-parser-outp\n",
      "- References (first 100 chars): ^ \"Census of Population and Housing National Analytical Report 2010\" (PDF) . Central Statistical Off\n",
      "- Further reading (first 100 chars): .mw-parser-output .refbegin{margin-bottom:0.5em}.mw-parser-output .refbegin-hanging-indents>ul{margi\n",
      "- External links (first 100 chars): .mw-parser-output .side-box{margin:4px 0;box-sizing:border-box;border:1px solid #aaa;font-size:88%;l\n"
     ]
    }
   ],
   "source": [
    "from bs4 import BeautifulSoup\n",
    "\n",
    "def extract_sections(html):\n",
    "    soup = BeautifulSoup(html, \"html.parser\")\n",
    "    content_div = soup.find('div', class_='mw-parser-output')\n",
    "    if not content_div:\n",
    "        print(\"No main content div found!\")\n",
    "        return []\n",
    "\n",
    "    sections = []\n",
    "\n",
    "    # Find all divs with class starting with 'mw-heading'\n",
    "    heading_divs = content_div.find_all('div', class_=lambda c: c and c.startswith('mw-heading'))\n",
    "\n",
    "    for heading_div in heading_divs:\n",
    "        # Extract the h2/h3/h4 tag inside the heading div\n",
    "        header_tag = heading_div.find(['h2', 'h3', 'h4'])\n",
    "        if not header_tag:\n",
    "            continue\n",
    "\n",
    "        section_title = header_tag.get_text(strip=True)\n",
    "\n",
    "        content = []\n",
    "        # Collect siblings until the next heading\n",
    "        for sibling in heading_div.find_next_siblings():\n",
    "            if sibling.name == 'div' and sibling.get('class') and any(c.startswith('mw-heading') for c in sibling.get('class')):\n",
    "                break\n",
    "\n",
    "            for edit_span in sibling.find_all('span', class_='mw-editsection'):\n",
    "                edit_span.decompose()\n",
    "\n",
    "            text = sibling.get_text(separator=' ', strip=True)\n",
    "            if text:\n",
    "                content.append(text)\n",
    "\n",
    "        full_text = \" \".join(content).strip()\n",
    "        if full_text:\n",
    "            sections.append((section_title, full_text))\n",
    "\n",
    "    return sections\n",
    "\n",
    "# Extract sections from the HTML content\n",
    "sections = extract_sections(html)\n",
    "print(f\"\\nSections in '{page_title}':\")\n",
    "for title, content in sections[:50]:\n",
    "    print(f\"- {title} (first 100 chars): {content[:100]}\")\n"
   ]
  },
  {
   "cell_type": "code",
   "execution_count": 33,
   "metadata": {},
   "outputs": [
    {
     "name": "stdout",
     "output_type": "stream",
     "text": [
      "Wikipedia page URL for 'Zambia': https://en.wikipedia.org/wiki/Zambia\n"
     ]
    }
   ],
   "source": [
    "def wiki_page_url(title):\n",
    "    base_url = \"https://en.wikipedia.org/wiki/\"\n",
    "    url = base_url + title.replace(\" \", \"_\")\n",
    "    print(f\"Wikipedia page URL for '{title}': {url}\")\n",
    "    return url\n",
    "\n",
    "page_url = wiki_page_url(page_title)\n"
   ]
  },
  {
   "cell_type": "code",
   "execution_count": 58,
   "metadata": {},
   "outputs": [
    {
     "name": "stdout",
     "output_type": "stream",
     "text": [
      "\n",
      " Features of first section:\n",
      "Words: 47, References: 1\n"
     ]
    }
   ],
   "source": [
    "import re\n",
    "\n",
    "def compute_features(text):\n",
    "    word_count = len(text.split())\n",
    "    ref_count = len(re.findall(r'\\[citation needed\\]|\\[.*?\\]', text))\n",
    "    return word_count, ref_count\n",
    "\n",
    "sample_section_text = sections[0][1]  # first section's text\n",
    "word_count, ref_count = compute_features(sample_section_text)\n",
    "print(f\"\\n Features of first section:\")\n",
    "print(f\"Words: {word_count}, References: {ref_count}\")\n"
   ]
  },
  {
   "cell_type": "code",
   "execution_count": 59,
   "metadata": {},
   "outputs": [
    {
     "name": "stdout",
     "output_type": "stream",
     "text": [
      "🧠 Editing Effort: Medium\n"
     ]
    }
   ],
   "source": [
    "def classify_effort(word_count, ref_count):\n",
    "    if word_count > 200 and ref_count > 2:\n",
    "        return \"Low\"\n",
    "    elif 100 < word_count <= 200 or 1 <= ref_count <= 2:\n",
    "        return \"Medium\"\n",
    "    else:\n",
    "        return \"High\"\n",
    "\n",
    "effort = classify_effort(word_count, ref_count)\n",
    "print(f\"🧠 Editing Effort: {effort}\")\n"
   ]
  },
  {
   "cell_type": "code",
   "execution_count": 60,
   "metadata": {},
   "outputs": [
    {
     "name": "stdout",
     "output_type": "stream",
     "text": [
      "\n",
      "🔍 Analyzing: Zambia\n",
      " - [Medium] Etymology (47 words, 1 refs)\n",
      " - [High] History (5 words, 0 refs)\n",
      " - [Medium] Prehistoric era (79 words, 1 refs)\n",
      " - [Medium] Khoisan and Batwa (147 words, 3 refs)\n",
      " - [Medium] The Bantu (Abantu) (111 words, 1 refs)\n",
      " - [Medium] Bantu origins (121 words, 3 refs)\n",
      " - [Low] First Bantu settlement (466 words, 6 refs)\n",
      " - [Medium] Second Bantu settlement (93 words, 1 refs)\n",
      " - [Low] Europeans (431 words, 7 refs)\n",
      " - [Medium] British colonisation (132 words, 1 refs)\n",
      " - [Low] Independence (243 words, 4 refs)\n",
      " - [Low] Post Independence (403 words, 5 refs)\n",
      " - [Medium] Economic troubles (79 words, 1 refs)\n",
      " - [Medium] Democratisation (122 words, 2 refs)\n",
      " - [Low] Politics (304 words, 7 refs)\n",
      " - [High] Foreign relations (63 words, 0 refs)\n",
      " - [Medium] Military (52 words, 1 refs)\n",
      " - [High] Administrative divisions (42 words, 0 refs)\n",
      " - [Medium] Human rights (175 words, 5 refs)\n",
      " - [Low] Geography (824 words, 3 refs)\n",
      " - [Medium] Climate (181 words, 1 refs)\n",
      " - [Low] Biodiversity (216 words, 5 refs)\n",
      " - [Low] Demographics (443 words, 4 refs)\n",
      " - [Medium] Largest towns (206 words, 2 refs)\n",
      " - [Low] Ethnic groups (571 words, 19 refs)\n",
      " - [Low] Religion (521 words, 22 refs)\n",
      " - [Low] Languages (353 words, 7 refs)\n",
      " - [Medium] Education (104 words, 5 refs)\n",
      " - [Medium] Health (138 words, 4 refs)\n",
      " - [Low] Economy (609 words, 16 refs)\n",
      " - [Low] Mining (371 words, 17 refs)\n",
      " - [Medium] Agriculture (137 words, 5 refs)\n",
      " - [Medium] Tourism (169 words, 7 refs)\n",
      " - [Medium] Energy (105 words, 4 refs)\n",
      " - [Low] Culture (452 words, 7 refs)\n",
      " - [Medium] Media (115 words, 3 refs)\n",
      " - [Low] Sports and games (815 words, 14 refs)\n",
      " - [Medium] Music and dance (81 words, 1 refs)\n",
      " - [High] Zamrock (93 words, 4 refs)\n",
      " - [High] Notable people (10 words, 0 refs)\n",
      " - [High] See also (29 words, 0 refs)\n",
      " - [High] Notes (83 words, 0 refs)\n",
      " - [Low] References (4688 words, 3 refs)\n",
      " - [Medium] Further reading (176 words, 0 refs)\n",
      " - [Medium] External links (949 words, 2 refs)\n"
     ]
    }
   ],
   "source": [
    "def analyze_page(title):\n",
    "    print(f\"\\n🔍 Analyzing: {title}\")\n",
    "    html = get_page_html(title)\n",
    "    sections = extract_sections(html)\n",
    "    for section_title, content in sections:\n",
    "        word_count, ref_count = compute_features(content)\n",
    "        effort = classify_effort(word_count, ref_count)\n",
    "        print(f\" - [{effort}] {section_title} ({word_count} words, {ref_count} refs)\")\n",
    "\n",
    "# Try with one title\n",
    "analyze_page(titles[0])\n"
   ]
  },
  {
   "cell_type": "code",
   "execution_count": 51,
   "metadata": {},
   "outputs": [
    {
     "name": "stdout",
     "output_type": "stream",
     "text": [
      "\n",
      "Sections in 'Zambia':\n",
      "- Etymology (first 100 chars): Further information: Rhodesia (name) The territory of Zambia was known as Northern Rhodesia from 191\n",
      "- History (first 100 chars): Main article: History of Zambia\n",
      "- Prehistoric era (first 100 chars): Archaeological excavation work on the Zambezi Valley and Kalambo Falls shows a succession of human c\n"
     ]
    }
   ],
   "source": []
  },
  {
   "cell_type": "code",
   "execution_count": 50,
   "metadata": {},
   "outputs": [
    {
     "name": "stdout",
     "output_type": "stream",
     "text": [
      "Found 49 heading divs\n",
      "\n",
      "Sections in 'Zambia':\n",
      "- Etymology (first 100 chars): Further information: Rhodesia (name) The territory of Zambia was known as Northern Rhodesia from 191\n",
      "- History (first 100 chars): Main article: History of Zambia\n",
      "- Prehistoric era (first 100 chars): Archaeological excavation work on the Zambezi Valley and Kalambo Falls shows a succession of human c\n"
     ]
    }
   ],
   "source": [
    "\n"
   ]
  }
 ],
 "metadata": {
  "kernelspec": {
   "display_name": "Python 3",
   "language": "python",
   "name": "python3"
  },
  "language_info": {
   "codemirror_mode": {
    "name": "ipython",
    "version": 3
   },
   "file_extension": ".py",
   "mimetype": "text/x-python",
   "name": "python",
   "nbconvert_exporter": "python",
   "pygments_lexer": "ipython3",
   "version": "3.8.10"
  }
 },
 "nbformat": 4,
 "nbformat_minor": 2
}
