{
 "cells": [
  {
   "cell_type": "code",
   "execution_count": 1,
   "metadata": {},
   "outputs": [],
   "source": [
    "# Import libraries\n",
    "\n",
    "import requests\n",
    "from bs4 import BeautifulSoup\n",
    "import re"
   ]
  },
  {
   "cell_type": "code",
   "execution_count": 4,
   "metadata": {},
   "outputs": [
    {
     "name": "stdout",
     "output_type": "stream",
     "text": [
      "['Zambia', 'Outline of Zambia', 'President of Zambia', 'Economy of Zambia', 'China–Zambia relations', 'Geography of Zambia', 'Languages of Zambia', 'Foreign relations of Zambia', 'India–Zambia relations', 'Zambia Railways']\n"
     ]
    }
   ],
   "source": [
    "def search_zambian_pages(limit=10):\n",
    "    url = \"https://en.wikipedia.org/w/api.php\"\n",
    "    params = {\n",
    "        \"action\": \"query\",\n",
    "        \"list\": \"search\",\n",
    "        \"srsearch\": \"intitle:Zambia\",\n",
    "        \"format\": \"json\",\n",
    "        \"srlimit\": limit\n",
    "    }\n",
    "    response = requests.get(url, params=params).json()\n",
    "    print([result[\"title\"] for result in response[\"query\"][\"search\"]])\n",
    "\n",
    "search_zambian_pages(limit=10)"
   ]
  }
 ],
 "metadata": {
  "kernelspec": {
   "display_name": "Python 3",
   "language": "python",
   "name": "python3"
  },
  "language_info": {
   "codemirror_mode": {
    "name": "ipython",
    "version": 3
   },
   "file_extension": ".py",
   "mimetype": "text/x-python",
   "name": "python",
   "nbconvert_exporter": "python",
   "pygments_lexer": "ipython3",
   "version": "3.8.10"
  }
 },
 "nbformat": 4,
 "nbformat_minor": 2
}
